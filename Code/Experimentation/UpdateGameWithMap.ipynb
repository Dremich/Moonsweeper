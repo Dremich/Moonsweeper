import json
import random

def generateMap(size, difficulty):
    map = [[0] * size for _ in range(size)]
    rng = random.Random()
    
    # Place mines randomly
    for _ in range(difficulty):
        while True:
            row, col = rng.randint(0, size-1), rng.randint(0, size-1)
            if map[row][col] != -1:
                map[row][col] = -1
                break
    
    # Calculate adjacent mines for each cell
    for i in range(size):
        for j in range(size):
            if map[i][j] != -1:
                map[i][j] = sum(1 for di in [-1, 0, 1] for dj in [-1, 0, 1] 
                                if 0 <= i+di < size and 0 <= j+dj < size and map[i+di][j+dj] == -1)
    
    return map

def update_game(actionString, gameState):
    action = json.loads(actionString)
    row, col = action["row"], action["col"]
    
    if action.get("flag"):  
        gameState[row][col] = 9  # Flag the cell
    else:
        if gameState[row][col] == -1:  # If it's a mine
            gameState[row][col] = -3  # Game over, triggered mine
        elif gameState[row][col] >= 0:  # Reveal the cell
            gameState[row][col] = count_adjacent_mines(row, col, gameState)

    return gameState

def count_adjacent_mines(row, col, gameState):
    size = len(gameState)
    return sum(1 for di in [-1, 0, 1] for dj in [-1, 0, 1] 
               if 0 <= row+di < size and 0 <= col+dj < size and gameState[row+di][col+dj] == -1)

def game_state_to_json_file(gameState, filename):
    # Convert the game state to a JSON string and save to a file
    with open(filename, 'w') as file:
        json.dump(gameState, file, indent=4)

# Initialize game
size = 5
difficulty = 5
gameState = generateMap(size, difficulty)

# Save initial game state to a JSON file
game_state_to_json_file(gameState, 'initial_game_state.json')

# Example JSON action strings (reveal and flag actions)
revealActionString = '{"row": 2, "col": 2, "flag": false}'  # Reveal cell at (2, 2)
flagActionString = '{"row": 1, "col": 2, "flag": true}'    # Flag cell at (1, 2)

# Update game state with the actions and save to JSON files
gameState = update_game(revealActionString, gameState)
game_state_to_json_file(gameState, 'game_state_after_reveal.json')

gameState = update_game(flagActionString, gameState)
game_state_to_json_file(gameState, 'game_state_after_flagging.json')
