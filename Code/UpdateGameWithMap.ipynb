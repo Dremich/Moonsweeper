import json
import random

# Global game state
gameState = []

def generateMap(size, difficulty):
    global gameState
    gameState = [[0] * size for _ in range(size)]
    rng = random.Random()
    
    # Place mines randomly
    for _ in range(difficulty):
        while True:
            row, col = rng.randint(0, size-1), rng.randint(0, size-1)
            if gameState[row][col] != -1:
                gameState[row][col] = -1
                break
    
    # Calculate adjacent mines for each cell
    for i in range(size):
        for j in range(size):
            if gameState[i][j] != -1:
                gameState[i][j] = sum(1 for di in [-1, 0, 1] for dj in [-1, 0, 1] 
                                if 0 <= i+di < size and 0 <= j+dj < size and gameState[i+di][j+dj] == -1)
    return gameState

def updateGame(actionString):
    global gameState
    action = json.loads(actionString)
    row, col = action["row"], action["col"]
    
    if action.get("flag"):  
        gameState[row][col] = 9  # Flag the cell
    else:
        if gameState[row][col] == -1:  # If it's a mine
            gameState[row][col] = -3  # Game over, triggered mine
        elif gameState[row][col] >= 0:  # Reveal the cell
            gameState[row][col] = count_adjacent_mines(row, col, gameState)
    
    return gameState

def count_adjacent_mines(row, col, gameState):
    size = len(gameState)
    return sum(1 for di in [-1, 0, 1] for dj in [-1, 0, 1] 
               if 0 <= row+di < size and 0 <= col+dj < size and gameState[row+di][col+dj] == -1)

# Initialize game with a specific size and difficulty
size = 5
difficulty = 5
generateMap(size, difficulty)

# Example actions
revealActionString = '{"row": 2, "col": 2, "flag": false}'
updateGame(revealActionString)  # Reveal cell at (2, 2)

flagActionString = '{"row": 1, "col": 2, "flag": true}'
updateGame(flagActionString)  # Flag cell at (1, 2)

# Function to print the game state neatly
def print_game_state(gameState):
    for row in gameState:
        print(" ".join(str(cell).rjust(2) for cell in row))
    print()

# Print the current game state
print_game_state(gameState)
